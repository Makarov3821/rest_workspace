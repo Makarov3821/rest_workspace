{
 "cells": [
  {
   "cell_type": "code",
   "execution_count": 2,
   "metadata": {},
   "outputs": [],
   "source": [
    "import pyscf\n",
    "import numpy\n",
    "from pyscf import gto, scf, ci,df,lib\n",
    "import scipy\n",
    "from time import ctime, time\n",
    "import numgrid"
   ]
  },
  {
   "cell_type": "code",
   "execution_count": 37,
   "metadata": {},
   "outputs": [
    {
     "name": "stdout",
     "output_type": "stream",
     "text": [
      "Total energy:  -56.21735425613152\n",
      "Total job time:       0.10(wall)\n"
     ]
    }
   ],
   "source": [
    "TimeStart = time()\n",
    "mol = gto.Mole(                                                                                               \n",
    "        atom='''\n",
    "         N       -2.1988391019      1.8973746268      0.0000000000                 \n",
    "         H       -1.1788391019      1.8973746268      0.0000000000                 \n",
    "         H       -2.5388353987      1.0925460144     -0.5263586446                 \n",
    "         H       -2.5388400276      2.7556271745     -0.4338224694 ''',\n",
    "        basis='def2-tzvp',verbose=0\n",
    "    ).build()\n",
    "mf = scf.RHF(mol)\n",
    "mf.init_guess = '1e'\n",
    "print(\"Total energy: \",mf.kernel())\n",
    "print(\"Total job time: %10.2f(wall)\" %(time()-TimeStart))"
   ]
  },
  {
   "cell_type": "code",
   "execution_count": 70,
   "metadata": {
    "scrolled": false
   },
   "outputs": [
    {
     "name": "stdout",
     "output_type": "stream",
     "text": [
      "System: uname_result(system='Linux', node='igor-Latitude-5591', release='5.4.0-120-generic', version='#136-Ubuntu SMP Fri Jun 10 13:40:48 UTC 2022', machine='x86_64', processor='x86_64')  Threads 6\n",
      "Python 3.6.8 |Anaconda, Inc.| (default, Dec 30 2018, 01:22:34) \n",
      "[GCC 7.3.0]\n",
      "numpy 1.16.4  scipy 1.2.1\n",
      "Date: Wed Jun 22 21:37:21 2022\n",
      "PySCF version 2.0.1\n",
      "PySCF path  /home/igor/Data/opt/anaconda3/lib/python3.6/site-packages/pyscf\n",
      "\n",
      "[CONFIG] conf_file None\n",
      "[INPUT] verbose = 4\n",
      "[INPUT] num. atoms = 4\n",
      "[INPUT] num. electrons = 9\n",
      "[INPUT] charge = 1\n",
      "[INPUT] spin (= nelec alpha-beta = 2S) = 1\n",
      "[INPUT] symmetry False subgroup None\n",
      "[INPUT] Mole.unit = angstrom\n",
      "[INPUT]  1 N     -2.198839101900   1.897374626800   0.000000000000 AA   -4.155203694576   3.585518400351   0.000000000000 Bohr\n",
      "[INPUT]  2 H     -1.178839101900   1.897374626800   0.000000000000 AA   -2.227683047519   3.585518400351   0.000000000000 Bohr\n",
      "[INPUT]  3 H     -2.538835398700   1.092546014400  -0.526358644600 AA   -4.797703578894   2.064612745701  -0.994673681591 Bohr\n",
      "[INPUT]  4 H     -2.538840027600   2.755627174500  -0.433822469400 AA   -4.797712326247   5.207380661214  -0.819805653849 Bohr\n",
      "\n",
      "nuclear repulsion = 11.8479237868993\n",
      "number of shells = 86\n",
      "number of NR pGTOs = 393\n",
      "number of NR cGTOs = 367\n",
      "basis = aug-cc-pv5z\n",
      "ecp = {}\n",
      "CPU time:      1881.09\n",
      "\n",
      "\n",
      "******** <class 'pyscf.df.df_jk.density_fit.<locals>.DFHF'> ********\n",
      "method = DFHF-UHF\n",
      "initial guess = 1e\n",
      "damping factor = 0\n",
      "level_shift factor = 0\n",
      "DIIS = <class 'pyscf.scf.diis.CDIIS'>\n",
      "diis_start_cycle = 1\n",
      "diis_space = 8\n",
      "SCF conv_tol = 1e-09\n",
      "SCF conv_tol_grad = None\n",
      "SCF max_cycles = 50\n",
      "direct_scf = True\n",
      "direct_scf_tol = 1e-13\n",
      "chkfile to save SCF result = /home/igor/Documents/Package-Pool/Rust/rest/tmpl2046kom\n",
      "max_memory 4000 MB (current use 274 MB)\n",
      "number electrons alpha = 5  beta = 4\n",
      "Set gradient conv threshold to 3.16228e-05\n",
      "Initial guess from hcore.\n",
      "  alpha nocc = 5  HOMO = -7.55161757048187  LUMO = -4.62874347532264\n",
      "  beta  nocc = 4  HOMO = -7.70277054811847  LUMO = -7.55161757048187\n",
      "\n",
      "WARN: system HOMO -7.55161757048187 >= system LUMO -7.55161757048187\n",
      "\n",
      "******** <class 'pyscf.df.df.DF'> ********\n",
      "auxbasis = def2-tzvp-jkfit\n",
      "max_memory = 4000\n",
      "_cderi_to_save = /home/igor/Documents/Package-Pool/Rust/rest/tmplxl3q7w8\n",
      "init E= -43.8126334267145\n",
      "  alpha nocc = 5  HOMO = -0.115355264593377  LUMO = -0.0882788546282703\n",
      "  beta  nocc = 4  HOMO = -0.213120318354383  LUMO = -0.10569992248871\n",
      "cycle= 1 E= -50.5193288939156  delta_E= -6.71  |g|= 2.52  |ddm|= 6.85\n",
      "  alpha nocc = 5  HOMO = -2.15711755072672  LUMO = -0.957489463825055\n",
      "  beta  nocc = 4  HOMO = -2.30158014909455  LUMO = -2.14218920827088\n",
      "cycle= 2 E= -54.1182424905468  delta_E= -3.6  |g|= 2.36  |ddm|= 6.62\n",
      "  alpha nocc = 5  HOMO = -0.998937251703886  LUMO = -0.302063017563732\n",
      "  beta  nocc = 4  HOMO = -1.17000386480458  LUMO = -0.554573754128401\n",
      "cycle= 3 E= -55.8514956941578  delta_E= -1.73  |g|= 0.286  |ddm|= 0.737\n",
      "  alpha nocc = 5  HOMO = -0.973527447348521  LUMO = -0.156899232682598\n",
      "  beta  nocc = 4  HOMO = -1.03321980720044  LUMO = -0.289617180422221\n",
      "cycle= 4 E= -55.886601528976  delta_E= -0.0351  |g|= 0.0394  |ddm|= 0.13\n",
      "  alpha nocc = 5  HOMO = -0.959328779750887  LUMO = -0.151290779201814\n",
      "  beta  nocc = 4  HOMO = -1.01636332644765  LUMO = -0.27284986482392\n",
      "cycle= 5 E= -55.8875074038396  delta_E= -0.000906  |g|= 0.00793  |ddm|= 0.0325\n",
      "  alpha nocc = 5  HOMO = -0.960968371035728  LUMO = -0.151621725637642\n",
      "  beta  nocc = 4  HOMO = -1.01860434491281  LUMO = -0.274804830880197\n",
      "cycle= 6 E= -55.8875523387075  delta_E= -4.49e-05  |g|= 0.00248  |ddm|= 0.0058\n",
      "  alpha nocc = 5  HOMO = -0.961390775471065  LUMO = -0.151935112058894\n",
      "  beta  nocc = 4  HOMO = -1.01948340750642  LUMO = -0.275545578529168\n",
      "cycle= 7 E= -55.8875598226019  delta_E= -7.48e-06  |g|= 0.000952  |ddm|= 0.00235\n",
      "  alpha nocc = 5  HOMO = -0.961244889823427  LUMO = -0.151869139324705\n",
      "  beta  nocc = 4  HOMO = -1.01903989112098  LUMO = -0.275336886063311\n",
      "cycle= 8 E= -55.8875612640635  delta_E= -1.44e-06  |g|= 0.000248  |ddm|= 0.00123\n",
      "  alpha nocc = 5  HOMO = -0.961327683162851  LUMO = -0.151839113874229\n",
      "  beta  nocc = 4  HOMO = -1.01897099018521  LUMO = -0.275246310031765\n",
      "cycle= 9 E= -55.8875613685241  delta_E= -1.04e-07  |g|= 6.48e-05  |ddm|= 0.000405\n",
      "  alpha nocc = 5  HOMO = -0.961372117255483  LUMO = -0.151846837398921\n",
      "  beta  nocc = 4  HOMO = -1.01898616927568  LUMO = -0.275266185223572\n",
      "cycle= 10 E= -55.8875613723881  delta_E= -3.86e-09  |g|= 9.28e-06  |ddm|= 6.87e-05\n",
      "  alpha nocc = 5  HOMO = -0.961367764564808  LUMO = -0.151846815375284\n",
      "  beta  nocc = 4  HOMO = -1.01897960220057  LUMO = -0.275262279122424\n",
      "cycle= 11 E= -55.8875613724443  delta_E= -5.62e-11  |g|= 1.08e-06  |ddm|= 1.26e-05\n",
      "  alpha nocc = 5  HOMO = -0.961367946470558  LUMO = -0.151846827993217\n",
      "  beta  nocc = 4  HOMO = -1.01897975745585  LUMO = -0.275262422970059\n",
      "Extra cycle  E= -55.8875613724452  delta_E= -9.09e-13  |g|= 4.26e-07  |ddm|= 1.03e-06\n",
      "converged SCF energy = -55.8875613724452  <S^2> = 0.75833219  2S+1 = 2.0083149\n",
      "Total energy: -55.88756137244524\n",
      "Total job time:       7.44(wall)\n"
     ]
    }
   ],
   "source": [
    "lib.num_threads(6)\n",
    "TimeStart = time()\n",
    "mol = gto.Mole(                                                                                               \n",
    "        atom='''\n",
    "         N       -2.1988391019      1.8973746268      0.0000000000                 \n",
    "         H       -1.1788391019      1.8973746268      0.0000000000                 \n",
    "         H       -2.5388353987      1.0925460144     -0.5263586446                 \n",
    "         H       -2.5388400276      2.7556271745     -0.4338224694 ''',\n",
    "        charge=1,spin=1,basis='aug-cc-pv5z',verbose=4\n",
    "    ).build()\n",
    "mf = scf.UHF(mol).density_fit(auxbasis=\"def2-tzvp-jkfit\")\n",
    "mf.init_guess = '1e'\n",
    "mf.diis = 'diis'\n",
    "print(\"Total energy:\",mf.kernel())\n",
    "print(\"Total job time: %10.2f(wall)\" %(time()-TimeStart))\n",
    "##================================================\n",
    "## debug 3-center integrals\n",
    "##================================================\n",
    "#ri3fn = df.incore.aux_e2(mol,\"sto-3g\")\n",
    "# print(ri3fn.shape)\n",
    "# index = 0\n",
    "# for ind_k in range(0,ri3fn.shape[2]):\n",
    "#     for ind_j in range(0,ri3fn.shape[1]):\n",
    "#         for ind_i in range(0,ri3fn.shape[0]):\n",
    "#             x = ri3fn[ind_i][ind_j][ind_k]\n",
    "#             if abs(x)>0.1:\n",
    "#                 index += 1\n",
    "#                 print(\"I= %3i J=%3i K=%3i Int=%16.8f\" %(ind_i,ind_j,ind_k,x))\n",
    "# print(\"Print out %i 3-center RI-V tensor elements\" %index)\n",
    "##======================================================\n",
    "## for two-center auxiliary coulomb integrals\n",
    "##======================================================\n",
    "# ri3fn = df.incore.aux_e2(mol,\"def2-svp-jkfit\",intor='int3c2e_sph',aosym='s2ij')\n",
    "# auxmol=df.addons.make_auxmol(mol,'def2-svp-jkfit')\n",
    "# j2c=auxmol.intor('int2c2e',hermi=0)\n",
    "# # j2c = scipy.linalg.inv(j2c)\n",
    "# index = 0\n",
    "# for ind_j in range(0,j2c.shape[1]):\n",
    "#     for ind_i in range(0,j2c.shape[0]):\n",
    "#         x = j2c[ind_i][ind_j]\n",
    "#         if abs(x)>0.1:\n",
    "#             index += 1\n",
    "#             print(\"I= %3i J=%3i Int=%16.8f\" %(ind_i,ind_j,x))\n",
    "# print(\"Print out %i 2-center auxiliary coulomb elements\" %index)\n",
    "##======================================================\n",
    "## for three-center tensors\n",
    "##======================================================\n",
    "# ri3fn = lib.unpack_tril(mf.with_df._cderi)\n",
    "# index = 0\n",
    "# for ind_k in range(0,ri3fn.shape[0]):\n",
    "#     for ind_i in range(0,ri3fn.shape[1]):\n",
    "#         for ind_j in range(0,ri3fn.shape[2]):\n",
    "#             x = ri3fn[ind_k][ind_i][ind_j]\n",
    "#             if abs(x)>0.1:\n",
    "#                 index += 1\n",
    "#                 print(\"I= %3i J=%3i K=%3i Int=%16.8f\" %(ind_i,ind_j,ind_k,x))\n",
    "# print(\"Print out %i 3-center RI-V tensor elements\" %index)\n",
    "##======================================================\n",
    "## for ERI\n",
    "##======================================================\n",
    "# ri3fn = df.incore.aux_e2(mol,\"def2-svp-jkfit\",intor='int3c2e_sph',aosym='s2ij')\n",
    "# auxmol=df.addons.make_auxmol(mol,'def2-svp-jkfit')\n",
    "# j2c=auxmol.intor('int2c2e',hermi=0)\n",
    "# eri1 = numpy.einsum('ik,kl->il',ri3fn,numpy.linalg.inv(j2c))\n",
    "# eri1 = numpy.einsum('ip,kp->ik',eri1,ri3fn)\n",
    "# index = 0\n",
    "# for ind_ij in range(0,eri1.shape[0]):\n",
    "#     for ind_kl in range(0,eri1.shape[1]):\n",
    "#             x = eri1[ind_ij][ind_kl]\n",
    "#             if abs(x)>0.1:\n",
    "#                 index += 1\n",
    "#                 print(\"IJ= %3i KL=%3i Int=%16.8f\" %(ind_ij,ind_kl,x))\n",
    "# print(\"Print out %i 4-center ERI elements\" %index)\n",
    "\n",
    "# mf.kernel()"
   ]
  },
  {
   "cell_type": "code",
   "execution_count": 105,
   "metadata": {},
   "outputs": [
    {
     "name": "stdout",
     "output_type": "stream",
     "text": [
      "[ 7 20  1 23  0  0]\n",
      "[ 1 24  1 27  0  0]\n",
      "[ 1 28  1 31  0  0]\n",
      "[ 1 32  1 35  0  0]\n",
      "0 [ 0  0  3  1  0 42 45  0]\n",
      "[99.106169  18.052312   4.8856602]\n",
      "[12.24723354 11.84499063  3.69156624]\n",
      "1 [ 0  0  3  1  0 48 51  0]\n",
      "[3.7804559 0.8784966 0.2857144]\n",
      "[-0.68474806  0.91590581  0.69124784]\n",
      "2 [ 0  1  3  1  0 54 57  0]\n",
      "[3.7804559 0.8784966 0.2857144]\n",
      "[2.39776185 1.50777694 0.23885724]\n",
      "3 [ 1  0  3  1  0 36 39  0]\n",
      "[3.42525091 0.62391373 0.1688554 ]\n",
      "[0.98170675 0.94946401 0.29590645]\n",
      "4 [ 2  0  3  1  0 36 39  0]\n",
      "[3.42525091 0.62391373 0.1688554 ]\n",
      "[0.98170675 0.94946401 0.29590645]\n",
      "5 [ 3  0  3  1  0 36 39  0]\n",
      "[3.42525091 0.62391373 0.1688554 ]\n",
      "[0.98170675 0.94946401 0.29590645]\n",
      "debug\n",
      "[ 0.          0.          0.          0.          0.          0.\n",
      "  0.          0.          0.          0.          0.          0.\n",
      "  0.          0.          0.          0.          0.          0.\n",
      "  0.          0.         -4.15520369  3.5855184   0.          0.\n",
      " -2.22768305  3.5855184   0.          0.         -4.79770358  2.06461275\n",
      " -0.99467368  0.         -4.79771233  5.20738066 -0.81980565  0.\n",
      "  3.42525091  0.62391373  0.1688554   0.98170675  0.94946401  0.29590645\n",
      " 99.106169   18.052312    4.8856602  12.24723354 11.84499063  3.69156624\n",
      "  3.7804559   0.8784966   0.2857144  -0.68474806  0.91590581  0.69124784\n",
      "  3.7804559   0.8784966   0.2857144   2.39776185  1.50777694  0.23885724]\n"
     ]
    }
   ],
   "source": [
    "dd = df.addons.make_auxmol(mol,'sto-3g')\n",
    "\n",
    "for x in dd._atm:\n",
    "    print(x)\n",
    "index = 0\n",
    "for x in dd._bas:\n",
    "    print(index,x)\n",
    "    print(dd._env[x[5]:x[5]+x[2]])\n",
    "    print(dd._env[x[6]:x[6]+x[2]*x[3]])\n",
    "    index += 1\n",
    "print(\"debug\")\n",
    "print(dd._env)"
   ]
  },
  {
   "cell_type": "code",
   "execution_count": 26,
   "metadata": {},
   "outputs": [
    {
     "data": {
      "text/plain": [
       "-55.45314190558954"
      ]
     },
     "execution_count": 26,
     "metadata": {},
     "output_type": "execute_result"
    }
   ],
   "source": [
    "mf.with_df.auxbasis = \"aug-cc-pvqz-jkfit\"\n",
    "mf.kernel() "
   ]
  },
  {
   "cell_type": "code",
   "execution_count": 25,
   "metadata": {},
   "outputs": [
    {
     "data": {
      "text/plain": [
       "-55.45314248764206"
      ]
     },
     "execution_count": 25,
     "metadata": {},
     "output_type": "execute_result"
    }
   ],
   "source": [
    "mf.with_df.auxbasis = df.aug_etb(mol, beta=1.7)\n",
    "mf.kernel() "
   ]
  },
  {
   "cell_type": "code",
   "execution_count": 20,
   "metadata": {},
   "outputs": [
    {
     "data": {
      "text/plain": [
       "-55.45144347014942"
      ]
     },
     "execution_count": 20,
     "metadata": {},
     "output_type": "execute_result"
    }
   ],
   "source": [
    "mf = scf.RHF(mol).density_fit(auxbasis=\"weigend\")\n",
    "mf.kernel()"
   ]
  },
  {
   "cell_type": "code",
   "execution_count": 141,
   "metadata": {},
   "outputs": [
    {
     "name": "stdout",
     "output_type": "stream",
     "text": [
      "True\n",
      "True\n",
      "4.883871085326064e-13\n",
      "-2.7755575615628914e-15\n",
      "-1.10015376487841 -1.1001547208961515 -1.100193764624759 -1.1001937646247586\n"
     ]
    }
   ],
   "source": [
    "    from pyscf import scf\n",
    "    from pyscf import ao2mo\n",
    "    mol = gto.Mole()\n",
    "    mol.verbose = 0\n",
    "    mol.output = None\n",
    "\n",
    "    mol.atom.extend([\n",
    "        [\"H\", (0,  0, 0  )],\n",
    "        [\"H\", (0,  0, 1  )],\n",
    "    ])\n",
    "    mol.basis = 'cc-pvdz'\n",
    "    mol.build()\n",
    "\n",
    "    auxmol = df.incore.format_aux_basis(mol)\n",
    "    j3c = df.incore.aux_e2(mol, auxmol, intor='int3c2e_sph', aosym='s1')\n",
    "    nao = mol.nao_nr()\n",
    "    naoaux = auxmol.nao_nr()\n",
    "    j3c = j3c.reshape(nao,nao,naoaux)\n",
    "\n",
    "    atm, bas, env = \\\n",
    "            gto.mole.conc_env(mol._atm, mol._bas, mol._env,\n",
    "                              auxmol._atm, auxmol._bas, auxmol._env)\n",
    "    eri0 = numpy.empty((nao,nao,naoaux))\n",
    "    pi = 0\n",
    "    for i in range(mol.nbas):\n",
    "        pj = 0\n",
    "        for j in range(mol.nbas):\n",
    "            pk = 0\n",
    "            for k in range(mol.nbas, mol.nbas+auxmol.nbas):\n",
    "                shls = (i, j, k)\n",
    "                buf = gto.moleintor.getints_by_shell('int3c2e_sph',\n",
    "                                                     shls, atm, bas, env)\n",
    "                di, dj, dk = buf.shape\n",
    "                eri0[pi:pi+di,pj:pj+dj,pk:pk+dk] = buf\n",
    "                pk += dk\n",
    "            pj += dj\n",
    "        pi += di\n",
    "    print(numpy.allclose(eri0, j3c))\n",
    "\n",
    "    j2c = df.incore.fill_2c2e(mol, auxmol)\n",
    "    eri0 = numpy.empty_like(j2c)\n",
    "    pi = 0\n",
    "    for i in range(mol.nbas, len(bas)):\n",
    "        pj = 0\n",
    "        for j in range(mol.nbas, len(bas)):\n",
    "            shls = (i, j)\n",
    "            buf = gto.moleintor.getints_by_shell('int2c2e_sph',\n",
    "                                                 shls, atm, bas, env)\n",
    "            di, dj = buf.shape\n",
    "            eri0[pi:pi+di,pj:pj+dj] = buf\n",
    "            pj += dj\n",
    "        pi += di\n",
    "    print(numpy.allclose(eri0, j2c))\n",
    "\n",
    "    j3c = df.incore.aux_e2(mol, auxmol, intor='int3c2e_sph', aosym='s2ij')\n",
    "    cderi = df.incore.cholesky_eri(mol, auxmol=auxmol)\n",
    "    eri0 = numpy.einsum('pi,pk->ik', cderi, cderi)\n",
    "    eri1 = numpy.einsum('ik,kl->il', j3c, numpy.linalg.inv(j2c))\n",
    "    eri1 = numpy.einsum('ip,kp->ik', eri1, j3c)\n",
    "    print(abs(eri1 - eri0).max())\n",
    "    eri0 = ao2mo.restore(1, eri0, nao)\n",
    "\n",
    "    mf = scf.RHF(mol)\n",
    "    ehf0 = mf.scf()\n",
    "\n",
    "    nao = mf.mo_energy.size\n",
    "    eri1 = ao2mo.restore(1, mf._eri, nao)\n",
    "    print(abs(eri1-eri0).max() - 0.0022142583265513105)\n",
    "\n",
    "    mf._eri = ao2mo.restore(8, eri0, nao)\n",
    "    ehf1 = mf.scf()\n",
    "\n",
    "    mf = scf.RHF(mol).density_fit(auxbasis='weigend')\n",
    "    ehf2 = mf.scf()\n",
    "\n",
    "    mf = mf.density_fit(auxbasis='weigend')\n",
    "    ehf3 = mf.scf()\n",
    "    print(ehf0, ehf1, ehf2, ehf3)"
   ]
  },
  {
   "cell_type": "code",
   "execution_count": 3,
   "metadata": {},
   "outputs": [],
   "source": [
    "radii, weights = numgrid.radial_grid_lmg( alpha_min={0: 0.3023, 1: 0.2753, 2: 1.185}, alpha_max=11720.0, radial_precision=1.0e-12, proton_charge=8, )"
   ]
  },
  {
   "cell_type": "code",
   "execution_count": 4,
   "metadata": {},
   "outputs": [
    {
     "name": "stdout",
     "output_type": "stream",
     "text": [
      "[1.2304794589759454e-06, 2.6336980993310114e-06, 4.233905675553877e-06, 6.058756210858283e-06, 8.13978590080707e-06, 1.0512958106784992e-05, 1.3219284857637214e-05, 1.630553559996809e-05, 1.9825045445384375e-05, 2.3838636882425878e-05, 2.8415670881768902e-05, 3.3635245559400795e-05, 3.95875631124901e-05, 4.637548865068543e-05, 5.4116327861820987e-05, 6.294385423279893e-05, 7.301062085911147e-05, 8.44905967945913e-05, 9.758217350152745e-05, 0.00011251159335718234, 0.00012953685946652218, 0.0001489521943486774, 0.00017109312455002314, 0.00019634227905373608, 0.0002251360016911716, 0.0002579718918275978, 0.0002954174036368161, 0.00033811965257322685, 0.0003868165985121067, 0.00044234979881978883, 0.000505678951746213, 0.000577898481471814, 0.0006602564514236075, 0.00075417613271137, 0.000861280600419329, 0.0009834207828147287, 0.0011227074482063066, 0.0012815476822342878, 0.001462686485975001, 0.0016692542137387164, 0.0019048206703580484, 0.002173456802850449, 0.0024798050525806402, 0.0028291595837154453, 0.003227557774440908, 0.003681884552049176, 0.004199991374964317, 0.004790831917897655, 0.005464616804978631, 0.006232990064885314, 0.007109230357387858, 0.008108480448805902, 0.009248008902065284, 0.010547508503756575, 0.012029436585469348, 0.013719403120673117, 0.015646613304049737, 0.01784437226172206, 0.020350660614540016, 0.023208790841033847, 0.026468155782985957, 0.030185082228936854, 0.03442380432684787, 0.03925757364797396, 0.04476992508553923, 0.05105612046487287, 0.05822479481278606, 0.06639983373623022, 0.07572251435420017, 0.0863539467814424, 0.09847785835652628, 0.11230376872997776, 0.1280706106828306, 0.1460508592488553, 0.1665552404979834, 0.1899381013558711, 0.2166035332582641, 0.24701235546623276, 0.2816900787245926, 0.32123598688766164, 0.36633349345666244, 0.41776195200551264, 0.47641012459714155, 0.5432915409450616, 0.6195620137499113, 0.7065396129026261, 0.8057274437389025, 0.9188396229878619, 1.0478309013188452, 1.1949304444090645, 1.362680356320391, 1.5539796109278552, 1.7721341506018633, 2.020914017925626, 2.3046185077708192, 2.6281504656586163, 2.9971010163947933, 3.417846187218798, 3.897657095261897, 4.444825603521343, 5.068807616877284, 5.780386494525543, 6.591859402842075, 7.517249829140259, 8.572549928882209, 9.775996894473037]\n"
     ]
    }
   ],
   "source": [
    "print(radii)"
   ]
  },
  {
   "cell_type": "code",
   "execution_count": null,
   "metadata": {},
   "outputs": [],
   "source": []
  }
 ],
 "metadata": {
  "kernelspec": {
   "display_name": "Python 3",
   "language": "python",
   "name": "python3"
  },
  "language_info": {
   "codemirror_mode": {
    "name": "ipython",
    "version": 3
   },
   "file_extension": ".py",
   "mimetype": "text/x-python",
   "name": "python",
   "nbconvert_exporter": "python",
   "pygments_lexer": "ipython3",
   "version": "3.6.8"
  }
 },
 "nbformat": 4,
 "nbformat_minor": 2
}
